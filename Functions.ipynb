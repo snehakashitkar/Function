{
  "nbformat": 4,
  "nbformat_minor": 0,
  "metadata": {
    "colab": {
      "provenance": []
    },
    "kernelspec": {
      "name": "python3",
      "display_name": "Python 3"
    },
    "language_info": {
      "name": "python"
    }
  },
  "cells": [
    {
      "cell_type": "markdown",
      "source": [
        "#Functions\n",
        "\n",
        "1.What is the difference between a function and a method in Python?\n",
        "- Functions\n",
        "Independent: Standalone blocks of code that perform a specific task.\n",
        "Defined: Using the def keyword.\n",
        "Example:\n",
        "\n",
        "def greet(name):\n",
        "  \"\"\"This function greets the person passed in as a parameter.\"\"\"\n",
        "  print(\"Hello, \" + name + \". Good morning!\")\n",
        "\n",
        "greet('World')\n",
        "\n",
        "\n",
        "Methods\n",
        "\n",
        "Associated: Functions that are defined within a class.\n",
        "Belong to Objects: Accessed using the dot notation (e.g., object_name.method_name()).\n",
        "Example:\n",
        "\n",
        "class Dog:\n",
        "  def bark(self):\n",
        "    print(\"Woof!\")\n",
        "\n",
        "my_dog = Dog()\n",
        "my_dog.bark()\n",
        "\n",
        "\n",
        "\n",
        "2.Explain the concept of function arguments and parameters in Python.\n",
        " - Function Arguments and Parameters in Python\n",
        "\n",
        "In Python, function arguments and parameters are closely related concepts that play a crucial role in how functions receive and process data.\n",
        "\n",
        "Parameters\n",
        "\n",
        "Definition: Parameters are the variables that are declared within the parentheses of a function's definition. They act as placeholders for the values that will be passed to the function when it's called.\n",
        "\n",
        "def greet(name):  # 'name' is a parameter\n",
        "    print(\"Hello,\", name + \"!\")\n",
        "\n",
        "\n",
        "3.. What are the different ways to define and call a function in Python?\n",
        "  - 1. Defining Functions\n",
        "\n",
        "Basic Syntax\n",
        "\n",
        "def function_name(parameter1, parameter2, ...):\n",
        "  \"\"\"Docstring: Briefly explain the function's purpose.\"\"\"\n",
        "  return value  # Optional: Return a value\n",
        "\n",
        "\n",
        "def greet(name):\n",
        "  \"\"\"Greets the person passed as an argument.\"\"\"\n",
        "  print(f\"Hello, {name}!\")\n",
        "\n",
        "greet(\"Alice\")  # Calling the function\n",
        "\n",
        "\n",
        "2. Calling Functions\n",
        "\n",
        "Direct Call:\n",
        "\n",
        "def add(x, y):\n",
        "  return x + y\n",
        "\n",
        "result = add(5, 3)  # Calling add() and storing the result\n",
        "print(result)  # Output: 8\n",
        "\n",
        "\n",
        "3. Keyword Arguments:\n",
        "\n",
        "def greet(name, greeting=\"Hello\"):\n",
        "  print(f\"{greeting}, {name}!\")\n",
        "\n",
        "greet(name=\"Bob\", greeting=\"Hi\")  # Using keyword arguments\n",
        "\n",
        "\n",
        "4.What is the purpose of the `return` statement in a Python function?\n",
        "  - The return statement in a Python function serves the following key purposes:\n",
        "\n",
        "Returning a Value:\n",
        "\n",
        "It allows the function to send back a specific value to the code that called it.\n",
        "This value can then be used for further calculations, assignments, or other operations.\n",
        "Terminating Execution:\n",
        "\n",
        "When a return statement is encountered within a function, the function's execution immediately stops.\n",
        "No code following the return statement within that function will be executed.\n",
        "\n",
        "```\n",
        "\n",
        "def add(x, y):\n",
        "  \"\"\"This function adds two numbers.\"\"\"\n",
        "  result = x + y\n",
        "  return result\n",
        "\n",
        "sum = add(5, 3)  # The 'add' function returns 8, which is stored in the 'sum' variable\n",
        "print(sum)  # Output: 8\n",
        "```\n",
        "\n",
        "5.What are iterators in Python and how do they differ from iterables?\n",
        " - Iterators\n",
        "\n",
        "Definition: An iterator is an object that allows you to traverse a collection of data (like a list, tuple, or string) one element at a time.\n",
        "Key Characteristics:\n",
        "Implements the __iter__() method, which returns the iterator object itself.\n",
        "Implements the __next__() method, which returns the next element in the sequence. When there are no more elements, it raises a StopIteration exception.\n",
        "Iterables\n",
        "\n",
        "Definition: An iterable is any object that can be used to create an iterator.\n",
        "Examples:\n",
        "Lists, tuples, sets, dictionaries, strings, and more.\n",
        "Key Characteristics:\n",
        "Implements the __iter__() method, which returns an iterator object.\n",
        "\n",
        "'''\n",
        "my_list = [1, 2, 3]  # my_list is an iterable\n",
        "\n",
        "my_iterator = iter(my_list)  # Create an iterator from the list\n",
        "\n",
        "print(next(my_iterator))  \n",
        "print(next(my_iterator))  \n",
        "print(next(my_iterator))\n",
        "\n",
        "'''\n",
        "\n",
        "6.Explain the concept of generators in Python and how they are defined.\n",
        "  - Definition: Generators are a special type of function that return an iterator. They use the yield keyword instead of return to produce a sequence of values.\n",
        "\n",
        "Key Characteristics:\n",
        "\n",
        "Memory Efficient: Unlike regular functions that return all values at once, generators produce values on-the-fly. This makes them ideal for dealing with large datasets, as they don't require storing all values in memory simultaneously.\n",
        "\n",
        "'''\n",
        "def my_generator():\n",
        "  \"\"\"A simple generator function.\"\"\"\n",
        "  yield 1\n",
        "  yield 2\n",
        "  yield 3\n",
        "\n",
        "gen = my_generator()\n",
        "\n",
        "\n",
        "for value in gen:\n",
        "  print(value)  # Output: 1, 2, 3\n",
        "\n",
        "'''\n",
        "\n",
        "7.What are the advantages of using generators over regular functions?\n",
        "  - Generators in Python offer several key advantages over regular functions:\n",
        "\n",
        "1. Memory Efficiency:\n",
        "\n",
        "Reduced Memory Usage: Generators produce values one at a time, as needed. This means they don't need to store the entire sequence in memory, making them ideal for working with large datasets or infinite sequences. This can prevent memory errors or slowdowns that might occur with regular functions that create and store large lists.\n",
        "2. Lazy Evaluation:\n",
        "\n",
        "On-Demand Computation: Generators only compute the next value when it's requested. This can significantly improve performance, especially when dealing with complex calculations or when not all values in the sequence are actually needed.\n",
        "\n",
        "def infinite_sequence():\n",
        "  \"\"\"Generates an infinite sequence of numbers.\"\"\"\n",
        "  i = 0\n",
        "  while True:\n",
        "    yield i\n",
        "    i += 1\n",
        "\n",
        "for num in infinite_sequence():  # Only generates numbers as needed\n",
        "  if num > 1000:\n",
        "    break\n",
        "  print(num)\n",
        "\n",
        "\n",
        "\n",
        "8.What is a lambda function in Python and when is it typically used?\n",
        "  - Definition: A lambda function is a small, anonymous function defined using the lambda keyword.\n",
        "\n",
        "  numbers = [1, 2, 3, 4, 5]\n",
        "squared_numbers = list(map(lambda x: x * x, numbers))\n",
        "print(squared_numbers)  # Output: [1, 4, 9, 16, 25]\n",
        "\n",
        "\n",
        "9.Explain the purpose and usage of the `map()` function in Python.\n",
        "  - Purpose\n",
        "\n",
        "The map() function applies a given function to each item of an iterable (like a list, tuple, or string) and returns an iterator of the results.\n",
        "\n",
        "numbers = [1, 2, 3, 4, 5]\n",
        "\n",
        "\n",
        "def square(x):\n",
        "    return x * x\n",
        "\n",
        "\n",
        "squared_numbers = map(square, numbers)\n",
        "\n",
        "\n",
        "squared_numbers_list = list(squared_numbers)\n",
        "\n",
        "print(squared_numbers_list)  # Output: [1, 4, 9, 16, 25]\n",
        "\n",
        "\n",
        "10.What is the difference between `map()`, `reduce()`, and `filter()` functions in Python?\n",
        "\n",
        "- map(), filter(), and reduce() are higher-order functions in Python that operate on iterables (like lists, tuples, etc.). They provide concise ways to perform common data transformations and aggregations\n",
        "\n",
        "\n",
        "numbers = [1, 2, 3, 4, 5]\n",
        "squared_numbers = list(map(lambda x: x * x, numbers))  # [1, 4, 9, 16, 25]\n",
        "\n",
        "\n"
      ],
      "metadata": {
        "id": "lkxOHbkUFg3U"
      }
    },
    {
      "cell_type": "code",
      "source": [
        "#11.Using pen & Paper write the internal mechanism for sum operation using  reduce function on this given\n",
        "#list:[47,11,42,13];\n",
        "\n",
        "#i Attach paper image for this answer in doc"
      ],
      "metadata": {
        "id": "uaMQHOW-JPSJ"
      },
      "execution_count": 3,
      "outputs": []
    },
    {
      "cell_type": "code",
      "source": [
        "#1.Write a Python function that takes a list of numbers as input and returns the sum of all even numbers in\n",
        "#the list.\n",
        "\n",
        "def sum_even_numbers(numbers):\n",
        "\n",
        "  even_sum = 0\n",
        "  for num in numbers:\n",
        "    if num % 2 == 0:\n",
        "      even_sum += num\n",
        "  return even_sum\n",
        "\n",
        "\n",
        "my_list = [1, 2, 3, 4, 5, 6, 7, 8, 9, 10]\n",
        "result = sum_even_numbers(my_list)\n",
        "print(\"Sum of even numbers:\", result)"
      ],
      "metadata": {
        "colab": {
          "base_uri": "https://localhost:8080/"
        },
        "id": "ZK_MdjCvKg1H",
        "outputId": "3c3d8be6-bf68-41ed-e234-e546c416c317"
      },
      "execution_count": 4,
      "outputs": [
        {
          "output_type": "stream",
          "name": "stdout",
          "text": [
            "Sum of even numbers: 30\n"
          ]
        }
      ]
    },
    {
      "cell_type": "code",
      "source": [
        "#2.Create a Python function that accepts a string and returns the reverse of that string.\n",
        "\n",
        "def reverse_string(s):\n",
        "\n",
        "  return s[::-1]\n",
        "\n",
        "my_string = \"hello\"\n",
        "reversed_string = reverse_string(my_string)\n",
        "print(\"Reversed string:\", reversed_string)\n",
        "\n"
      ],
      "metadata": {
        "colab": {
          "base_uri": "https://localhost:8080/"
        },
        "id": "qwmoXWJCKuyO",
        "outputId": "484aa3f1-a594-4915-d1e3-92e843cb128f"
      },
      "execution_count": 5,
      "outputs": [
        {
          "output_type": "stream",
          "name": "stdout",
          "text": [
            "Reversed string: olleh\n"
          ]
        }
      ]
    },
    {
      "cell_type": "code",
      "source": [
        "#3.Implement a Python function that takes a list of integers and returns a new list containing the squares of\n",
        "#each number.\n",
        "\n",
        "def square_list(numbers):\n",
        "\n",
        "  squared_numbers = []\n",
        "  for num in numbers:\n",
        "    squared_numbers.append(num * num)\n",
        "  return squared_numbers\n",
        "\n",
        "\n",
        "my_list = [1, 2, 3, 4, 5]\n",
        "result = square_list(my_list)\n",
        "print(result)"
      ],
      "metadata": {
        "colab": {
          "base_uri": "https://localhost:8080/"
        },
        "id": "YmXlPijpLRG1",
        "outputId": "09e35851-801e-46e6-bcc3-75b64206b146"
      },
      "execution_count": 6,
      "outputs": [
        {
          "output_type": "stream",
          "name": "stdout",
          "text": [
            "[1, 4, 9, 16, 25]\n"
          ]
        }
      ]
    },
    {
      "cell_type": "code",
      "source": [
        "#4.Write a Python function that checks if a given number is prime or not from 1 to 200.\n",
        "\n",
        "def is_prime(n):\n",
        "\n",
        "  if n <= 1:\n",
        "    return False\n",
        "  for i in range(2, int(n**0.5) + 1):\n",
        "    if n % i == 0:\n",
        "      return False\n",
        "  return True\n",
        "\n",
        "\n",
        "for num in range(1, 201):\n",
        "  if is_prime(num):\n",
        "    print(num, \"is prime\")"
      ],
      "metadata": {
        "colab": {
          "base_uri": "https://localhost:8080/"
        },
        "id": "2FNrcGkjLbxW",
        "outputId": "f43f03b0-2968-4a22-fec7-67d81c3aa93f"
      },
      "execution_count": 7,
      "outputs": [
        {
          "output_type": "stream",
          "name": "stdout",
          "text": [
            "2 is prime\n",
            "3 is prime\n",
            "5 is prime\n",
            "7 is prime\n",
            "11 is prime\n",
            "13 is prime\n",
            "17 is prime\n",
            "19 is prime\n",
            "23 is prime\n",
            "29 is prime\n",
            "31 is prime\n",
            "37 is prime\n",
            "41 is prime\n",
            "43 is prime\n",
            "47 is prime\n",
            "53 is prime\n",
            "59 is prime\n",
            "61 is prime\n",
            "67 is prime\n",
            "71 is prime\n",
            "73 is prime\n",
            "79 is prime\n",
            "83 is prime\n",
            "89 is prime\n",
            "97 is prime\n",
            "101 is prime\n",
            "103 is prime\n",
            "107 is prime\n",
            "109 is prime\n",
            "113 is prime\n",
            "127 is prime\n",
            "131 is prime\n",
            "137 is prime\n",
            "139 is prime\n",
            "149 is prime\n",
            "151 is prime\n",
            "157 is prime\n",
            "163 is prime\n",
            "167 is prime\n",
            "173 is prime\n",
            "179 is prime\n",
            "181 is prime\n",
            "191 is prime\n",
            "193 is prime\n",
            "197 is prime\n",
            "199 is prime\n"
          ]
        }
      ]
    },
    {
      "cell_type": "code",
      "source": [
        "#5.Create an iterator class in Python that generates the Fibonacci sequence up to a specified number of\n",
        "#terms.\n",
        "\n",
        "class FibonacciIterator:\n",
        "\n",
        "\n",
        "    def __init__(self, limit):\n",
        "\n",
        "        self.limit = limit\n",
        "        self.a = 0\n",
        "        self.b = 1\n",
        "        self.count = 0\n",
        "\n",
        "    def __iter__(self):\n",
        "\n",
        "        return self\n",
        "\n",
        "    def __next__(self):\n",
        "\n",
        "        if self.count >= self.limit:\n",
        "            raise StopIteration\n",
        "\n",
        "        self.count += 1\n",
        "        result = self.a\n",
        "        self.a, self.b = self.b, self.a + self.b\n",
        "        return result\n",
        "\n",
        "# Example usage:\n",
        "fib_iterator = FibonacciIterator(10)\n",
        "\n",
        "for num in fib_iterator:\n",
        "    print(num)"
      ],
      "metadata": {
        "colab": {
          "base_uri": "https://localhost:8080/"
        },
        "id": "-xG1xWmrLjMl",
        "outputId": "d9133a86-69fe-4541-aa57-b1d723e852b7"
      },
      "execution_count": 8,
      "outputs": [
        {
          "output_type": "stream",
          "name": "stdout",
          "text": [
            "0\n",
            "1\n",
            "1\n",
            "2\n",
            "3\n",
            "5\n",
            "8\n",
            "13\n",
            "21\n",
            "34\n"
          ]
        }
      ]
    },
    {
      "cell_type": "code",
      "source": [
        "#6. Write a generator function in Python that yields the powers of 2 up to a given exponent.\n",
        "\n",
        "def powers_of_two(exponent):\n",
        "\n",
        "    power = 1\n",
        "    for _ in range(exponent + 1):\n",
        "        yield power\n",
        "        power *= 2\n",
        "\n",
        "for power in powers_of_two(5):\n",
        "    print(power)"
      ],
      "metadata": {
        "colab": {
          "base_uri": "https://localhost:8080/"
        },
        "id": "oEb3fGt0Lt0p",
        "outputId": "ae520017-1fe3-4bb3-b314-b4d1edbfb7bd"
      },
      "execution_count": 9,
      "outputs": [
        {
          "output_type": "stream",
          "name": "stdout",
          "text": [
            "1\n",
            "2\n",
            "4\n",
            "8\n",
            "16\n",
            "32\n"
          ]
        }
      ]
    },
    {
      "cell_type": "code",
      "source": [
        "#7.Implement a generator function that reads a file line by line and yields each line as a string.\n",
        "\n",
        "def read_file_lines(filename):\n",
        "  \"\"\"\n",
        "  Reads a file line by line and yields each line as a string.\n",
        "\n",
        "  Args:\n",
        "    filename: The name of the file to read.\n",
        "\n",
        "  Yields:\n",
        "    Each line in the file as a string.\n",
        "  \"\"\"\n",
        "  try:\n",
        "    with open(filename, 'r') as f:\n",
        "      for line in f:\n",
        "        yield line.strip()\n",
        "  except FileNotFoundError:\n",
        "    print(f\"File not found: {filename}\")\n",
        "\n",
        "    return\n",
        "\n",
        "for line in read_file_lines(\"my_file.txt\"):\n",
        "  print(line)"
      ],
      "metadata": {
        "colab": {
          "base_uri": "https://localhost:8080/"
        },
        "id": "FQ5Pp9GcMDmH",
        "outputId": "28a45e89-3e27-4e5c-e74f-c497ef00c762"
      },
      "execution_count": 19,
      "outputs": [
        {
          "output_type": "stream",
          "name": "stdout",
          "text": [
            "File not found: my_file.txt\n"
          ]
        }
      ]
    },
    {
      "cell_type": "code",
      "source": [
        "#8.Use a lambda function in Python to sort a list of tuples based on the second element of each tuple.\n",
        "\n",
        "data = [(1, 3), (4, 1), (2, 2)]\n",
        "\n",
        "sorted_data = sorted(data, key=lambda x: x[1])\n",
        "\n",
        "print(sorted_data)"
      ],
      "metadata": {
        "colab": {
          "base_uri": "https://localhost:8080/"
        },
        "id": "ozv8cvBFNKCE",
        "outputId": "4f187a1d-9b2e-4911-9d43-0f64f182c701"
      },
      "execution_count": 20,
      "outputs": [
        {
          "output_type": "stream",
          "name": "stdout",
          "text": [
            "[(4, 1), (2, 2), (1, 3)]\n"
          ]
        }
      ]
    },
    {
      "cell_type": "code",
      "source": [
        "#9.Write a Python program that uses `map()` to convert a list of temperatures from Celsius to Fahrenheit.\n",
        "\n",
        "def celsius_to_fahrenheit(celsius):\n",
        "  \"\"\"Converts temperature from Celsius to Fahrenheit.\n",
        "\n",
        "  Args:\n",
        "    celsius: Temperature in Celsius.\n",
        "\n",
        "  Returns:\n",
        "    Temperature in Fahrenheit.\n",
        "  \"\"\"\n",
        "  return (celsius * 9/5) + 32\n",
        "\n",
        "temperatures_celsius = [0, 10, 20, 30]\n",
        "\n",
        "temperatures_fahrenheit = list(map(celsius_to_fahrenheit, temperatures_celsius))\n",
        "\n",
        "print(temperatures_fahrenheit)"
      ],
      "metadata": {
        "colab": {
          "base_uri": "https://localhost:8080/"
        },
        "id": "DIfuJ8nJNVf5",
        "outputId": "3adafb95-81b8-417e-ea39-68c43891464d"
      },
      "execution_count": 21,
      "outputs": [
        {
          "output_type": "stream",
          "name": "stdout",
          "text": [
            "[32.0, 50.0, 68.0, 86.0]\n"
          ]
        }
      ]
    },
    {
      "cell_type": "code",
      "source": [
        "#10.Create a Python program that uses `filter()` to remove all the vowels from a given string.\n",
        "\n",
        "def remove_vowels(char):\n",
        "  \"\"\"Checks if a character is a vowel.\n",
        "\n",
        "  Args:\n",
        "    char: The character to check.\n",
        "\n",
        "  Returns:\n",
        "    True if the character is not a vowel, False otherwise.\n",
        "  \"\"\"\n",
        "  vowels = \"aeiouAEIOU\"\n",
        "  return char not in vowels\n",
        "\n",
        "string = \"This is an example string.\"\n",
        "no_vowels = \"\".join(filter(remove_vowels, string))\n",
        "\n",
        "print(no_vowels)"
      ],
      "metadata": {
        "colab": {
          "base_uri": "https://localhost:8080/"
        },
        "id": "zcZwjvrCNgOE",
        "outputId": "727c433d-233f-47f4-87d1-9dd51fda2a3b"
      },
      "execution_count": 22,
      "outputs": [
        {
          "output_type": "stream",
          "name": "stdout",
          "text": [
            "Ths s n xmpl strng.\n"
          ]
        }
      ]
    },
    {
      "cell_type": "code",
      "source": [
        "#11. Imagine an accounting routine used in a book shop. It works on a list with sublists, which look like this:\n",
        "\n",
        "def calculate_total_revenue(orders):\n",
        "\n",
        "    total_revenue = 0\n",
        "\n",
        "    for order in orders:\n",
        "        quantity = order[2]\n",
        "        price_per_item = order[3]\n",
        "        order_revenue = quantity * price_per_item\n",
        "        total_revenue += order_revenue\n",
        "\n",
        "    return total_revenue\n",
        "\n",
        "orders = [\n",
        "    [34587, \"Learning Python, Mark Lutz\", 4, 40.95],\n",
        "    [98762, \"Programming Python, Mark Lutz\", 5, 56.80],\n",
        "    [77226, \"Head First Python, Paul Barry\", 3, 32.95],\n",
        "    [88112, \"Einführung in Python3, Bernd Klein\", 3, 24.99]\n",
        "]\n",
        "\n",
        "total_revenue = calculate_total_revenue(orders)\n",
        "print(f\"Total Revenue: {total_revenue}\")"
      ],
      "metadata": {
        "colab": {
          "base_uri": "https://localhost:8080/"
        },
        "id": "rVsVJS-gNthH",
        "outputId": "99395d55-b8ea-4e48-f79e-82f48930b53c"
      },
      "execution_count": 24,
      "outputs": [
        {
          "output_type": "stream",
          "name": "stdout",
          "text": [
            "Total Revenue: 621.62\n"
          ]
        }
      ]
    },
    {
      "cell_type": "code",
      "source": [
        "#12.Write a Python program, which returns a list with 2-tuples. Each tuple consists of the order number and the\n",
        "#product of the price per item and the quantity. The product should be increased by 10,- € if the value of the\n",
        "#order is smaller than 100,00 €.\n",
        "\n",
        "\n",
        "def order_summary(orders):\n",
        "\n",
        "  summary = []\n",
        "  for order in orders:\n",
        "    order_number = order['order_number']\n",
        "    total_price = order['price_per_item'] * order['quantity']\n",
        "    if total_price < 100:\n",
        "      total_price += 10\n",
        "    summary.append((order_number, total_price))\n",
        "  return summary\n",
        "\n",
        "\n",
        "orders = [\n",
        "    {'order_number': 1, 'price_per_item': 15, 'quantity': 5},\n",
        "    {'order_number': 2, 'price_per_item': 20, 'quantity': 3},\n",
        "    {'order_number': 3, 'price_per_item': 10, 'quantity': 8},\n",
        "]\n",
        "\n",
        "order_summary_list = order_summary(orders)\n",
        "print(order_summary_list)"
      ],
      "metadata": {
        "colab": {
          "base_uri": "https://localhost:8080/"
        },
        "id": "phE4vQGeOfpX",
        "outputId": "b327b4bf-7c98-411d-ebea-1a77cd5b9131"
      },
      "execution_count": 25,
      "outputs": [
        {
          "output_type": "stream",
          "name": "stdout",
          "text": [
            "[(1, 85), (2, 70), (3, 90)]\n"
          ]
        }
      ]
    },
    {
      "cell_type": "code",
      "source": [
        "#13.Write a Python program using lambda and map\n",
        "\n",
        "numbers = [1, 2, 3, 4, 5]\n",
        "\n",
        "\n",
        "squared_numbers = list(map(lambda x: x**2, numbers))\n",
        "\n",
        "print(squared_numbers)"
      ],
      "metadata": {
        "colab": {
          "base_uri": "https://localhost:8080/"
        },
        "id": "vvykFn7lPEef",
        "outputId": "bc5c395b-3b0f-4d55-99af-18f778d52779"
      },
      "execution_count": 26,
      "outputs": [
        {
          "output_type": "stream",
          "name": "stdout",
          "text": [
            "[1, 4, 9, 16, 25]\n"
          ]
        }
      ]
    }
  ]
}